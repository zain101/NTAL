{
 "metadata": {
  "name": "",
  "signature": "sha256:8759b55ba5fd4679688c11bbcfc2f88837403c8a1524e764a4c05882dd352f4b"
 },
 "nbformat": 3,
 "nbformat_minor": 0,
 "worksheets": [
  {
   "cells": [
    {
     "cell_type": "code",
     "collapsed": false,
     "input": [
      "from scapy.all import all\n",
      "\n",
      "my_ping_packet  = IP(dst=\"10.0.2.15\")/ICMP()/\"ooollala\"\n",
      "sr(my_ping_packet)\n"
     ],
     "language": "python",
     "metadata": {},
     "outputs": []
    }
   ],
   "metadata": {}
  }
 ]
}