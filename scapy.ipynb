{
 "metadata": {
  "name": "",
  "signature": "sha256:81dbc0db337b550d7a843ecbb433c7b1d75479e9d5f58dc96f1732890d9d860c"
 },
 "nbformat": 3,
 "nbformat_minor": 0,
 "worksheets": [
  {
   "cells": [
    {
     "cell_type": "code",
     "collapsed": false,
     "input": [
      "from scapy.all import *\n",
      "\n",
      "my_ping_packet  = IP(dst=\"10.42.0.165\")/ICMP()/\"ooollala\"\n",
      "sr1(my_ping_packet)\n"
     ],
     "language": "python",
     "metadata": {},
     "outputs": [
      {
       "output_type": "stream",
       "stream": "stdout",
       "text": [
        "\n",
        "Received 26 packets, got 1 answers, remaining 0 packets\n",
        "Begin emission:\n",
        "Finished to send 1 packets.\n"
       ]
      },
      {
       "metadata": {},
       "output_type": "pyout",
       "prompt_number": 5,
       "text": [
        "<IP  version=4L ihl=5L tos=0x0 len=36 id=1528 flags= frag=0L ttl=64 proto=icmp chksum=0x5fe8 src=10.42.0.165 dst=10.42.0.1 options=[] |<ICMP  type=echo-reply code=0 chksum=0x4861 id=0x0 seq=0x0 |<Raw  load='ooollala' |>>>"
       ]
      }
     ],
     "prompt_number": 5
    },
    {
     "cell_type": "code",
     "collapsed": false,
     "input": [],
     "language": "python",
     "metadata": {},
     "outputs": []
    }
   ],
   "metadata": {}
  }
 ]
}